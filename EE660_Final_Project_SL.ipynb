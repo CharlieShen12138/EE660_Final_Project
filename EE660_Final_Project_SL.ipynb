{
 "cells": [
  {
   "cell_type": "code",
   "execution_count": 9,
   "metadata": {
    "collapsed": true
   },
   "outputs": [],
   "source": [
    "import lightgbm as lgb\n",
    "import matplotlib.pyplot as plt\n",
    "import numpy as np\n",
    "import pandas as pd\n",
    "import seaborn as sns\n",
    "import xgboost as xgb\n",
    "from sklearn.ensemble import RandomForestRegressor\n",
    "from sklearn.neighbors import KNeighborsRegressor\n",
    "from sklearn.ensemble import AdaBoostRegressor\n",
    "from sklearn.model_selection import KFold\n",
    "from sklearn.model_selection import GridSearchCV\n",
    "from sklearn.metrics import make_scorer\n",
    "from sklearn.model_selection import train_test_split\n",
    "from sklearn.metrics import mean_squared_log_error\n",
    "from sklearn.metrics import r2_score"
   ]
  },
  {
   "cell_type": "code",
   "execution_count": null,
   "metadata": {},
   "outputs": [],
   "source": [
    "# Read and get information about Data\n",
    "customer_data = pd.read_csv('Data.csv')"
   ]
  },
  {
   "cell_type": "code",
   "execution_count": null,
   "metadata": {},
   "outputs": [
    {
     "data": {
      "text/html": [
       "<div>\n",
       "<style scoped>\n",
       "    .dataframe tbody tr th:only-of-type {\n",
       "        vertical-align: middle;\n",
       "    }\n",
       "\n",
       "    .dataframe tbody tr th {\n",
       "        vertical-align: top;\n",
       "    }\n",
       "\n",
       "    .dataframe thead th {\n",
       "        text-align: right;\n",
       "    }\n",
       "</style>\n",
       "<table border=\"1\" class=\"dataframe\">\n",
       "  <thead>\n",
       "    <tr style=\"text-align: right;\">\n",
       "      <th></th>\n",
       "      <th>ID</th>\n",
       "      <th>target</th>\n",
       "      <th>48df886f9</th>\n",
       "      <th>0deb4b6a8</th>\n",
       "      <th>34b15f335</th>\n",
       "      <th>a8cb14b00</th>\n",
       "      <th>2f0771a37</th>\n",
       "      <th>30347e683</th>\n",
       "      <th>d08d1fbe3</th>\n",
       "      <th>6ee66e115</th>\n",
       "      <th>...</th>\n",
       "      <th>3ecc09859</th>\n",
       "      <th>9281abeea</th>\n",
       "      <th>8675bec0b</th>\n",
       "      <th>3a13ed79a</th>\n",
       "      <th>f677d4d13</th>\n",
       "      <th>71b203550</th>\n",
       "      <th>137efaa80</th>\n",
       "      <th>fb36b89d9</th>\n",
       "      <th>7e293fbaf</th>\n",
       "      <th>9fc776466</th>\n",
       "    </tr>\n",
       "  </thead>\n",
       "  <tbody>\n",
       "    <tr>\n",
       "      <th>0</th>\n",
       "      <td>000d6aaf2</td>\n",
       "      <td>38000000.0</td>\n",
       "      <td>0.0</td>\n",
       "      <td>0</td>\n",
       "      <td>0.0</td>\n",
       "      <td>0</td>\n",
       "      <td>0</td>\n",
       "      <td>0</td>\n",
       "      <td>0</td>\n",
       "      <td>0</td>\n",
       "      <td>...</td>\n",
       "      <td>0.0</td>\n",
       "      <td>0.0</td>\n",
       "      <td>0.0</td>\n",
       "      <td>0</td>\n",
       "      <td>0</td>\n",
       "      <td>0</td>\n",
       "      <td>0</td>\n",
       "      <td>0</td>\n",
       "      <td>0</td>\n",
       "      <td>0</td>\n",
       "    </tr>\n",
       "    <tr>\n",
       "      <th>1</th>\n",
       "      <td>000fbd867</td>\n",
       "      <td>600000.0</td>\n",
       "      <td>0.0</td>\n",
       "      <td>0</td>\n",
       "      <td>0.0</td>\n",
       "      <td>0</td>\n",
       "      <td>0</td>\n",
       "      <td>0</td>\n",
       "      <td>0</td>\n",
       "      <td>0</td>\n",
       "      <td>...</td>\n",
       "      <td>0.0</td>\n",
       "      <td>0.0</td>\n",
       "      <td>0.0</td>\n",
       "      <td>0</td>\n",
       "      <td>0</td>\n",
       "      <td>0</td>\n",
       "      <td>0</td>\n",
       "      <td>0</td>\n",
       "      <td>0</td>\n",
       "      <td>0</td>\n",
       "    </tr>\n",
       "    <tr>\n",
       "      <th>2</th>\n",
       "      <td>0027d6b71</td>\n",
       "      <td>10000000.0</td>\n",
       "      <td>0.0</td>\n",
       "      <td>0</td>\n",
       "      <td>0.0</td>\n",
       "      <td>0</td>\n",
       "      <td>0</td>\n",
       "      <td>0</td>\n",
       "      <td>0</td>\n",
       "      <td>0</td>\n",
       "      <td>...</td>\n",
       "      <td>0.0</td>\n",
       "      <td>0.0</td>\n",
       "      <td>0.0</td>\n",
       "      <td>0</td>\n",
       "      <td>0</td>\n",
       "      <td>0</td>\n",
       "      <td>0</td>\n",
       "      <td>0</td>\n",
       "      <td>0</td>\n",
       "      <td>0</td>\n",
       "    </tr>\n",
       "    <tr>\n",
       "      <th>3</th>\n",
       "      <td>0028cbf45</td>\n",
       "      <td>2000000.0</td>\n",
       "      <td>0.0</td>\n",
       "      <td>0</td>\n",
       "      <td>0.0</td>\n",
       "      <td>0</td>\n",
       "      <td>0</td>\n",
       "      <td>0</td>\n",
       "      <td>0</td>\n",
       "      <td>0</td>\n",
       "      <td>...</td>\n",
       "      <td>0.0</td>\n",
       "      <td>0.0</td>\n",
       "      <td>0.0</td>\n",
       "      <td>0</td>\n",
       "      <td>0</td>\n",
       "      <td>0</td>\n",
       "      <td>0</td>\n",
       "      <td>0</td>\n",
       "      <td>0</td>\n",
       "      <td>0</td>\n",
       "    </tr>\n",
       "    <tr>\n",
       "      <th>4</th>\n",
       "      <td>002a68644</td>\n",
       "      <td>14400000.0</td>\n",
       "      <td>0.0</td>\n",
       "      <td>0</td>\n",
       "      <td>0.0</td>\n",
       "      <td>0</td>\n",
       "      <td>0</td>\n",
       "      <td>0</td>\n",
       "      <td>0</td>\n",
       "      <td>0</td>\n",
       "      <td>...</td>\n",
       "      <td>0.0</td>\n",
       "      <td>0.0</td>\n",
       "      <td>0.0</td>\n",
       "      <td>0</td>\n",
       "      <td>0</td>\n",
       "      <td>0</td>\n",
       "      <td>0</td>\n",
       "      <td>0</td>\n",
       "      <td>0</td>\n",
       "      <td>0</td>\n",
       "    </tr>\n",
       "  </tbody>\n",
       "</table>\n",
       "<p>5 rows × 4993 columns</p>\n",
       "</div>"
      ],
      "text/plain": [
       "          ID      target  48df886f9  0deb4b6a8  34b15f335  a8cb14b00  \\\n",
       "0  000d6aaf2  38000000.0        0.0          0        0.0          0   \n",
       "1  000fbd867    600000.0        0.0          0        0.0          0   \n",
       "2  0027d6b71  10000000.0        0.0          0        0.0          0   \n",
       "3  0028cbf45   2000000.0        0.0          0        0.0          0   \n",
       "4  002a68644  14400000.0        0.0          0        0.0          0   \n",
       "\n",
       "   2f0771a37  30347e683  d08d1fbe3  6ee66e115  ...  3ecc09859  9281abeea  \\\n",
       "0          0          0          0          0  ...        0.0        0.0   \n",
       "1          0          0          0          0  ...        0.0        0.0   \n",
       "2          0          0          0          0  ...        0.0        0.0   \n",
       "3          0          0          0          0  ...        0.0        0.0   \n",
       "4          0          0          0          0  ...        0.0        0.0   \n",
       "\n",
       "   8675bec0b  3a13ed79a  f677d4d13  71b203550  137efaa80  fb36b89d9  \\\n",
       "0        0.0          0          0          0          0          0   \n",
       "1        0.0          0          0          0          0          0   \n",
       "2        0.0          0          0          0          0          0   \n",
       "3        0.0          0          0          0          0          0   \n",
       "4        0.0          0          0          0          0          0   \n",
       "\n",
       "   7e293fbaf  9fc776466  \n",
       "0          0          0  \n",
       "1          0          0  \n",
       "2          0          0  \n",
       "3          0          0  \n",
       "4          0          0  \n",
       "\n",
       "[5 rows x 4993 columns]"
      ]
     },
     "execution_count": 138,
     "metadata": {},
     "output_type": "execute_result"
    }
   ],
   "source": [
    "customer_data.head()"
   ]
  },
  {
   "cell_type": "code",
   "execution_count": null,
   "metadata": {},
   "outputs": [],
   "source": [
    "customer_data.info()"
   ]
  },
  {
   "cell_type": "code",
   "execution_count": null,
   "metadata": {},
   "outputs": [],
   "source": [
    "print('Data rows and Columns:',customer_data.shape)"
   ]
  },
  {
   "cell_type": "markdown",
   "metadata": {},
   "source": [
    "* The tagert value Y named 'Target' in the second Column, other Feature name doesn't mean anything for now\n",
    "\n",
    "* Most of colums are full of zero from current perspective, it may can be femoved in futher processing\n",
    "\n",
    "* Original Data has 4459 Data points and 4993 features, it may need operation for dimention reduction"
   ]
  },
  {
   "cell_type": "markdown",
   "metadata": {},
   "source": [
    "# Checking Missing Values"
   ]
  },
  {
   "cell_type": "code",
   "execution_count": null,
   "metadata": {},
   "outputs": [],
   "source": [
    "def is_missing(data):\n",
    "    missing_num =  data.columns[data.isnull().sum() != 0].size\n",
    "    if missing_num != 0:\n",
    "        missing_col = list(data.columns[data.isnull().sum() != 0])\n",
    "        return missing_col\n",
    "    else:\n",
    "        print('There is no missing value in this Dataset')\n",
    "\n",
    "is_missing(customer_data)"
   ]
  },
  {
   "cell_type": "markdown",
   "metadata": {},
   "source": [
    "# Remove Constant Columns From Data"
   ]
  },
  {
   "cell_type": "code",
   "execution_count": 142,
   "metadata": {},
   "outputs": [],
   "source": [
    "def remove_constant(data):\n",
    "    col_to_remove = []\n",
    "    for col in data.columns:\n",
    "        if col != 'ID' and col != 'target':\n",
    "            if data[col].std() == 0:\n",
    "                col_to_remove.append(col)\n",
    "    return col_to_remove"
   ]
  },
  {
   "cell_type": "code",
   "execution_count": 143,
   "metadata": {
    "collapsed": true
   },
   "outputs": [
    {
     "name": "stdout",
     "output_type": "stream",
     "text": [
      "['d5308d8bc', 'c330f1a67', 'eeac16933', '7df8788e8', '5b91580ee', '6f29fbbc7', '46dafc868', 'ae41a98b6', 'f416800e9', '6d07828ca', '7ac332a1d', '70ee7950a', '833b35a7c', '2f9969eab', '8b1372217', '68322788b', '2288ac1a6', 'dc7f76962', '467044c26', '39ebfbfd9', '9a5ff8c23', 'f6fac27c8', '664e2800e', 'ae28689a2', 'd87dcac58', '4065efbb6', 'f944d9d43', 'c2c4491d5', 'a4346e2e2', '1af366d4f', 'cfff5b7c8', 'da215e99e', '5acd26139', '9be9c6cef', '1210d0271', '21b0a54cb', 'da35e792b', '754c502dd', '0b346adbd', '0f196b049', 'b603ed95d', '2a50e001c', '1e81432e7', '10350ea43', '3c7c7e24c', '7585fce2a', '64d036163', 'f25d9935c', 'd98484125', '95c85e227', '9a5273600', '746cdb817', '6377a6293', '7d944fb0c', '87eb21c50', '5ea313a8c', '0987a65a1', '2fb7c2443', 'f5dde409b', '1ae50d4c3', '2b21cd7d8', '0db8a9272', '804d8b55b', '76f135fa6', '7d7182143', 'f88e61ae6', '378ed28e0', 'ca4ba131e', '1352ddae5', '2b601ad67', '6e42ff7c7', '22196a84c', '0e410eb3d', '992e6d1d3', '90a742107', '08b9ec4ae', 'd95203ded', '58ad51def', '9f69ae59f', '863de8a31', 'be10df47c', 'f006d9618', 'a7e39d23d', '5ed0abe85', '6c578fe94', '7fa4fcee9', '5e0571f07', 'fd5659511', 'e06b9f40f', 'c506599c8', '99de8c2dc', 'b05f4b229', '5e0834175', 'eb1cc0d9c', 'b281a62b9', '00fcf67e4', 'e37b65992', '2308e2b29', 'c342e8709', '708471ebf', 'f614aac15', '15ecf7b68', '3bfe540f1', '7a0d98f3c', 'e642315a5', 'c16d456a7', '0c9b5bcfa', 'b778ab129', '2ace87cdd', '697a566f0', '97b1f84fc', '34eff114b', '5281333d7', 'c89f3ba7e', 'cd6d3c7e6', 'fc7c8f2e8', 'abbbf9f82', '24a233e8f', '8e26b560e', 'a28ac1049', '504502ce1', 'd9a8615f3', '4efd6d283', '34cc56e83', '93e98252a', '2b6cef19e', 'c7f70a49b', '0d29ab7eb', 'e4a0d39b7', 'a4d1a8409', 'bc694fc8f', '3a36fc3a2', '4ffba44d3', '9bfdec4bc', '66a866d2f', 'f941e9df7', 'e7af4dbf3', 'dc9a54a3e', '748168a04', 'bba8ce4bb', 'ff6f62aa4', 'b06fe66ba', 'ae87ebc42', 'f26589e57', '963bb53b1', 'a531a4bf0', '9fc79985d', '9350d55c1', 'de06e884c', 'fc10bdf18', 'e0907e883', 'c586d79a1', 'e15e1513d', 'a06067897', '643e42fcb', '217cd3838', '047ebc242', '9b6ce40cf', '3b2c972b3', '17a7bf25a', 'c9028d46b', '9e0473c91', '6b041d374', '783c50218', '19122191d', 'ce573744f', '1c4ea481e', 'fbd6e0a0b', '69831c049', 'b87e3036b', '54ba515ee', 'a09ba0b15', '90f77ec55', 'fb02ef0ea', '3b0cccd29', 'fe9ed417c', '589e8bd6f', '17b5a03fd', '80e16b49a', 'a3d5c2c2a', '1bd3a4e92', '611d81daa', '3d7780b1c', '113fd0206', '5e5894826', 'cb36204f9', 'bc4e3d600', 'c66e2deb0', 'c25851298', 'a7f6de992', '3f93a3272', 'c1b95c2ec', '6bda21fee', '4a64e56e7', '943743753', '20854f8bf', 'ac2e428a9', '5ee7de0be', '316423a21', '2e52b0c6a', '8bdf6bc7e', '8f523faf2', '4758340d5', '8411096ec', '9678b95b7', 'a185e35cc', 'fa980a778', 'c8d90f7d7', '080540c81', '32591c8b4', '5779da33c', 'bb425b41e', '01599af81', '1654ab770', 'd334a588e', 'b4353599c', '51b53eaec', '2cc0fbc52', '45ffef194', 'c15ac04ee', '5b055c8ea', 'd0466eb58', 'a80633823', 'a117a5409', '7ddac276f', '8c32df8b3', 'e5649663e', '6c16efbb8', '9118fd5ca', 'ca8d565f1', '16a5bb8d2', 'fd6347461', 'f5179fb9c', '97428b646', 'f684b0a96', 'e4b2caa9f', '2c2d9f267', '96eb14eaf', 'cb2cb460c', '86f843927', 'ecd16fc60', '801c6dc8e', 'f859a25b8', 'ae846f332', '2252c7403', 'fb9e07326', 'd196ca1fd', 'a8e562e8e', 'eb6bb7ce1', '5beff147e', '52b347cdc', '4600aadcf', '6fa0b9dab', '43d70cc4d', '408021ef8', 'e29d22b59']\n",
      "The number of column removed: 256\n"
     ]
    }
   ],
   "source": [
    "remove_constant_col = remove_constant(customer_data)\n",
    "customer_data.drop(remove_constant_col, axis = 1, inplace = True)  # Remove Constant Columns\n",
    "print(remove_constant_col)\n",
    "print('The number of column removed:',len(remove_constant_col))"
   ]
  },
  {
   "cell_type": "markdown",
   "metadata": {},
   "source": [
    "* There are 256 columns having constant values has been removed"
   ]
  },
  {
   "cell_type": "markdown",
   "metadata": {},
   "source": [
    "# Remove Duplicated Columns"
   ]
  },
  {
   "cell_type": "code",
   "execution_count": 144,
   "metadata": {},
   "outputs": [],
   "source": [
    "def duplicate_columns(frame):\n",
    "    groups = frame.columns.to_series().groupby(frame.dtypes).groups    \n",
    "    # Covert data to dict like structure for better manipulate\n",
    "    dups = []\n",
    "\n",
    "    for t, v in groups.items(): \n",
    "\n",
    "        cs = frame[v].columns\n",
    "        vs = frame[v]\n",
    "        lcs = len(cs)\n",
    "\n",
    "        for i in range(lcs):            \n",
    "        # Search dupilicated columns column by column\n",
    "            ia = vs.iloc[:,i].values\n",
    "            for j in range(i+1, lcs):\n",
    "                ja = vs.iloc[:,j].values\n",
    "                if np.array_equal(ia, ja):\n",
    "                    dups.append(cs[i])\n",
    "                    break\n",
    "\n",
    "    return dups   # Return duplicated columns\n",
    "\n",
    "# Referance: https://www.kaggle.com/code/samratp/lightgbm-xgboost-catboost#XGB-Modeling"
   ]
  },
  {
   "cell_type": "code",
   "execution_count": 145,
   "metadata": {
    "collapsed": true
   },
   "outputs": [
    {
     "name": "stdout",
     "output_type": "stream",
     "text": [
      "Duplicated columns are: ['34ceb0081', '8d57e2749', '168b3e5bc', 'a765da8bc', 'acc5b709d']\n"
     ]
    }
   ],
   "source": [
    "remove_duplicate_col = duplicate_columns(customer_data)\n",
    "print('Duplicated columns are:',remove_duplicate_col)"
   ]
  },
  {
   "cell_type": "code",
   "execution_count": 146,
   "metadata": {},
   "outputs": [],
   "source": [
    "customer_data.drop(remove_duplicate_col, axis = 1, inplace = True)"
   ]
  },
  {
   "cell_type": "markdown",
   "metadata": {},
   "source": [
    "   When we say sparce data, it always refers to the columns in dataset which has many gaps present data being recorded,\n",
    "i.e., most or all of them are zero. Althogh these data are functioning properly and valid but the actual reading is zero, which means these feature has no effect to result at all.  \n",
    "   For example, if one feature in our data has bool value, and the probility for this to be true is only 0.01%, hence\n",
    "produce sparce data."
   ]
  },
  {
   "cell_type": "markdown",
   "metadata": {},
   "source": [
    "## Handle Sparce Data"
   ]
  },
  {
   "cell_type": "code",
   "execution_count": 147,
   "metadata": {},
   "outputs": [],
   "source": [
    "def drop_saprce(data):\n",
    "    column_to_detect = [col for col in data.columns if col not in['ID','target']]\n",
    "    counter = 0\n",
    "    for col in column_to_detect:\n",
    "        if len(np.unique(data[col])) < 2:\n",
    "            data.drop(col, axis = 1, inplace = True)\n",
    "            counter += 1\n",
    "    print('The number of column has been droped is:', counter)\n",
    "    return data"
   ]
  },
  {
   "cell_type": "code",
   "execution_count": 148,
   "metadata": {},
   "outputs": [
    {
     "name": "stdout",
     "output_type": "stream",
     "text": [
      "The number of column has been droped is: 0\n"
     ]
    }
   ],
   "source": [
    "customer_data = drop_saprce(customer_data)"
   ]
  },
  {
   "cell_type": "markdown",
   "metadata": {},
   "source": [
    "# Split Train and Test Data"
   ]
  },
  {
   "cell_type": "code",
   "execution_count": 149,
   "metadata": {},
   "outputs": [],
   "source": [
    "customer_data_X = customer_data.drop(['ID', 'target'], axis=1)\n",
    "customer_data_Y = customer_data['target']"
   ]
  },
  {
   "cell_type": "code",
   "execution_count": 150,
   "metadata": {},
   "outputs": [],
   "source": [
    "X_train, X_test, Y_train, Y_test = train_test_split(customer_data_X, customer_data_Y, test_size = 0.2, random_state = 42)"
   ]
  },
  {
   "cell_type": "code",
   "execution_count": 151,
   "metadata": {},
   "outputs": [
    {
     "name": "stdout",
     "output_type": "stream",
     "text": [
      "8398890.173264287\n"
     ]
    },
    {
     "data": {
      "image/png": "[encoded data removed]",
      "text/plain": [
       "<Figure size 640x480 with 1 Axes>"
      ]
     },
     "metadata": {},
     "output_type": "display_data"
    }
   ],
   "source": [
    "#See the distrubution of Y if it needs futher process\n",
    "plt.hist(Y_train)\n",
    "print(Y_train.std())"
   ]
  },
  {
   "cell_type": "markdown",
   "metadata": {},
   "source": [
    "* The distrubution of Y has high variance and does not obbey normal distribution, it's left skewed and inbalanced, it's need further process"
   ]
  },
  {
   "cell_type": "code",
   "execution_count": 152,
   "metadata": {},
   "outputs": [
    {
     "name": "stdout",
     "output_type": "stream",
     "text": [
      "1.7643566208398558\n"
     ]
    },
    {
     "data": {
      "image/png": "[encoded data removed]",
      "text/plain": [
       "<Figure size 640x480 with 1 Axes>"
      ]
     },
     "metadata": {},
     "output_type": "display_data"
    }
   ],
   "source": [
    "plt.hist(np.log1p(Y_train))\n",
    "print(np.log1p(Y_train).std())"
   ]
  },
  {
   "cell_type": "code",
   "execution_count": 153,
   "metadata": {},
   "outputs": [],
   "source": [
    "Y_train = np.log1p(Y_train)"
   ]
  },
  {
   "cell_type": "markdown",
   "metadata": {},
   "source": [
    "* After take log for the Y value, the variance of the Y distibution gets much lower wihle it also more like a noraml distribution now\n",
    "* Here we using log1p rather than log for higer accuracy"
   ]
  },
  {
   "cell_type": "markdown",
   "metadata": {},
   "source": [
    "# Regression: Predict the Customer's Transaction Value"
   ]
  },
  {
   "cell_type": "markdown",
   "metadata": {},
   "source": [
    "## Baseline System 1: Trival System"
   ]
  },
  {
   "cell_type": "code",
   "execution_count": 154,
   "metadata": {},
   "outputs": [],
   "source": [
    "def Make_Score_Reg(Test_Y,Pred_Y):\n",
    "    res_ = {}\n",
    "    res_['RMSLE'] = mean_squared_log_error(Test_Y,Pred_Y)\n",
    "    res_['R2'] = r2_score(Test_Y,Pred_Y)\n",
    "    return res_"
   ]
  },
  {
   "cell_type": "code",
   "execution_count": 193,
   "metadata": {},
   "outputs": [],
   "source": [
    "def Trival_System(Train_Y,Test_Y)-> dict:\n",
    "    mean = np.mean(Train_Y)\n",
    "    Pred_Y = [mean]*len(Test_Y)\n",
    "    Pred_Y = np.expm1(Pred_Y)\n",
    "    return Make_Score_Reg(Test_Y,Pred_Y)"
   ]
  },
  {
   "cell_type": "markdown",
   "metadata": {},
   "source": [
    "## Baseline System 2: KNN Regression (Parameters = Default)"
   ]
  },
  {
   "cell_type": "code",
   "execution_count": 194,
   "metadata": {},
   "outputs": [],
   "source": [
    "def KNN_Regression(Train_X,Train_Y,Test_X,Test_Y)-> dict:\n",
    "    KNN_modle = KNeighborsRegressor()\n",
    "    Pred_Y = KNN_modle.fit(Train_X,Train_Y).predict(Test_X)\n",
    "    Pred_Y = np.expm1(Pred_Y)\n",
    "    return Make_Score_Reg(Test_Y,Pred_Y)"
   ]
  },
  {
   "cell_type": "markdown",
   "metadata": {},
   "source": [
    "## Random Forest Regressor"
   ]
  },
  {
   "cell_type": "code",
   "execution_count": 43,
   "metadata": {},
   "outputs": [],
   "source": [
    "def Random_Froest_Regressor(Train_X,Train_Y,Test_X,Test_Y):\n",
    "    # Set parameters for cross validation\n",
    "    parm_grid_RF = {'n_estimators':[50,100,150],\n",
    "                    'criterion':['squared_error'],\n",
    "                    'max_depth':[3,5,None]}\n",
    "    Kfold = KFold(n_splits=5,shuffle=True, random_state=42)\n",
    "    score_RF = {'RMSLE':make_scorer(mean_squared_log_error),\n",
    "                'R2':make_scorer(r2_score)}\n",
    "    RF_grid = GridSearchCV(RandomForestRegressor(),param_grid = parm_grid_RF,cv = Kfold,\n",
    "                           scoring = score_RF, refit = 'RMSLE')\n",
    "    # Train and Evaluate Model\n",
    "    RF_grid.fit(Train_X, Train_Y)\n",
    "    Best_RF = RF_grid.best_estimator_\n",
    "    Best_RF.fit(Train_X, Train_Y)\n",
    "    Pred_Y = Best_RF.predict(Test_X)\n",
    "    Pred_Y = np.expm1(Pred_Y)\n",
    "    return Make_Score_Reg(Test_Y,Pred_Y)"
   ]
  },
  {
   "cell_type": "code",
   "execution_count": 3,
   "metadata": {},
   "outputs": [],
   "source": [
    "def Random_Froest_RegressorF(Train_X , Train_Y , Test_X, Test_Y):\n",
    "    Model_RF = RandomForestRegressor(n_estimators = 100, max_depth = None, criterion = 'squared_error' )\n",
    "    # Train and Evaluate Model\n",
    "    Model_RF.fit(Train_X, Train_Y)\n",
    "    Pred_Y = Model_RF.predict(Test_X)\n",
    "    Pred_Y = np.expm1(Pred_Y)\n",
    "    return Make_Score_Reg(Test_Y,Pred_Y)"
   ]
  },
  {
   "cell_type": "code",
   "execution_count": null,
   "metadata": {},
   "outputs": [],
   "source": [
    "Perf_RF = Random_Froest_Regressor(X_train,Y_train,X_test,Y_test)"
   ]
  },
  {
   "cell_type": "code",
   "execution_count": null,
   "metadata": {},
   "outputs": [],
   "source": [
    "p = Random_Froest_RegressorF(X_train,Y_train,X_test,Y_test)"
   ]
  },
  {
   "cell_type": "code",
   "execution_count": 95,
   "metadata": {},
   "outputs": [
    {
     "data": {
      "text/plain": [
       "{'RMSLE': 2.0589492790523796, 'R2': 0.12196123599025355}"
      ]
     },
     "execution_count": 95,
     "metadata": {},
     "output_type": "execute_result"
    }
   ],
   "source": [
    "Perf_RF"
   ]
  },
  {
   "cell_type": "markdown",
   "metadata": {},
   "source": [
    "## AdaBoost Regressor"
   ]
  },
  {
   "cell_type": "code",
   "execution_count": 42,
   "metadata": {},
   "outputs": [],
   "source": [
    "def AdaBoost_Regressor(Train_X,Train_Y,Test_X,Test_Y):\n",
    "    Ada_Parm_grid = {'n_estimators':[n for n in range(50,200,10)],\n",
    "                     'learning_rate':[0.001,0.01,0.1,1],\n",
    "                     'loss':['linear', 'square', 'exponential']}\n",
    "    Kfold = KFold(n_splits=5,shuffle=True, random_state=42)\n",
    "    score_Ada = {'RMSLE':make_scorer(mean_squared_log_error),\n",
    "                'R2':make_scorer(r2_score)}\n",
    "    Ada_grid = GridSearchCV(AdaBoostRegressor(),param_grid = Ada_Parm_grid,cv = Kfold,\n",
    "                           scoring = score_Ada, refit = 'RMSLE')\n",
    "    Ada_grid.fit(Train_X, Train_Y)\n",
    "    Best_Ada = Ada_grid.best_estimator_\n",
    "    print('Best Parameters for AdaBoost is:',Ada_grid.best_params_)\n",
    "    Best_Ada.fit(Train_X, Train_Y)\n",
    "    Pred_Y = Best_Ada.predict(Test_X)\n",
    "    Pred_Y = np.expm1(Pred_Y)\n",
    "    return Make_Score_Reg(Test_Y,Pred_Y)"
   ]
  },
  {
   "cell_type": "code",
   "execution_count": null,
   "metadata": {},
   "outputs": [],
   "source": [
    "Perf_Ada = AdaBoost_Regressor(X_train,Y_train,X_test,Y_test)\n",
    "Perf_Ada"
   ]
  },
  {
   "cell_type": "markdown",
   "metadata": {},
   "source": [
    "## XGBoost Regressor"
   ]
  },
  {
   "cell_type": "code",
   "execution_count": 44,
   "metadata": {},
   "outputs": [],
   "source": [
    "def XGBoost_Para(Train_X,Train_Y):\n",
    "    XGB_para = {'learning_rate':[0.05, 0.10, 0.15, 0.20, 0.25, 0.30 ] ,\n",
    "                'max_depth': [ 3, 4, 5, 6, 8, 10, 12, 15],\n",
    "                'min_child_weight' : [ 1, 3, 5, 7 ],\n",
    "                'gamma': [ 0.0, 0.1, 0.2 , 0.3, 0.4 ]}\n",
    "    XGB_model = xgb.XGBRegressor(objective = 'reg:squarederror')\n",
    "    score_XGB = {'RMSLE':make_scorer(mean_squared_log_error),\n",
    "                'R2':make_scorer(r2_score)}\n",
    "    XGB_CV = GridSearchCV(XGB_model, param_grid = XGB_para, cv = 5,\n",
    "                        scoring = score_XGB, refit = 'RMSLE' )\n",
    "    XGB_CV.fit(Train_X, Train_Y)\n",
    "    return XGB_CV.best_params_"
   ]
  },
  {
   "cell_type": "code",
   "execution_count": null,
   "metadata": {},
   "outputs": [],
   "source": [
    "XGB_para = XGBoost_Para(X_train,Y_train)\n",
    "XGB_para"
   ]
  },
  {
   "cell_type": "code",
   "execution_count": null,
   "metadata": {},
   "outputs": [],
   "source": [
    "def XGB_Train(Train_X,Train_Y,Test_X,Test_Y):\n",
    "    XGB_Train_Data = xgb.DMatrix(Train_X,Train_Y)\n",
    "    XGB_Test_Data =  xgb.DMatrix(Test_X)\n",
    "    para = {'objective': 'reg:squarederror',\n",
    "            'eval_metric':'rmse',\n",
    "            'max_depth': 15,\n",
    "            'learning_rate': 0.3,\n",
    "            'alpha':0.001,\n",
    "            'gamma': 0.0,\n",
    "            'eta': 0.001,\n",
    "            'min_child_weight': 1}\n",
    "    model_XGB = xgb.train(para, XGB_Train_Data, 50, maximize=False, verbose_eval=100)\n",
    "    Pred_Y = np.expm1(model_XGB.predict(XGB_Test_Data))\n",
    "    return Make_Score_Reg(Test_Y,Pred_Y)"
   ]
  },
  {
   "cell_type": "code",
   "execution_count": null,
   "metadata": {},
   "outputs": [],
   "source": [
    "Perf_XGB = XGB_Train(X_train,Y_train,X_test,Y_test)\n",
    "Perf_XGB"
   ]
  },
  {
   "cell_type": "markdown",
   "metadata": {},
   "source": [
    "## Light GBM Regressor"
   ]
  },
  {
   "cell_type": "code",
   "execution_count": 190,
   "metadata": {},
   "outputs": [],
   "source": [
    "def LGBM_Para(Train_X, Train_Y):\n",
    "    Model = lgb.LGBMRegressor(objective = 'regression',silent = True)\n",
    "    LGB_paras = {'learning_rate': [0.001, 0.01, 0.1],\n",
    "                 'num_leaves': [50, 80, 100, 120],\n",
    "                 'feature_fraction': [0.1, 0.6, 0.8, 0.9],\n",
    "                 'bagging_fraction': [0.6, 0.8, 1],\n",
    "                 'max_depth': [5,15,30],\n",
    "                 'subsample': [0.01, 0.1, 1.0]}\n",
    "    score_LGBM = {'RMSLE':make_scorer(mean_squared_log_error),\n",
    "                'R2':make_scorer(r2_score)}\n",
    "    LGBM_Grid = GridSearchCV(estimator = Model, param_grid = LGB_paras, cv = 5,scoring = score_LGBM, refit = 'RMSLE')\n",
    "    LGBM_Grid.fit(Train_X, Train_Y)\n",
    "    return LGBM_Grid.best_params_    "
   ]
  },
  {
   "cell_type": "code",
   "execution_count": null,
   "metadata": {},
   "outputs": [],
   "source": [
    "LGB_Para = LGBM_Para(X_train, Y_train)"
   ]
  },
  {
   "cell_type": "code",
   "execution_count": 192,
   "metadata": {},
   "outputs": [
    {
     "data": {
      "text/plain": [
       "{'bagging_fraction': 0.6,\n",
       " 'feature_fraction': 0.6,\n",
       " 'learning_rate': 0.1,\n",
       " 'max_depth': 15,\n",
       " 'num_leaves': 50,\n",
       " 'subsample': 0.01}"
      ]
     },
     "execution_count": 192,
     "metadata": {},
     "output_type": "execute_result"
    }
   ],
   "source": [
    "LGB_Para"
   ]
  },
  {
   "cell_type": "code",
   "execution_count": 187,
   "metadata": {},
   "outputs": [],
   "source": [
    "def LGBM_Train(Train_X,Train_Y,Test_X,Test_Y):\n",
    "    LGBM_para = {'objective' : 'regression',\n",
    "                 'silent' : True,\n",
    "                 'metric':'rmse',\n",
    "                 'bagging_fraction': 0.6,\n",
    "                 'feature_fraction': 0.6,\n",
    "                 'learning_rate': 0.1,\n",
    "                 'max_depth': 15,\n",
    "                 'num_leaves': 50}\n",
    "    LGBM_Train_Data = lgb.Dataset(Train_X, label = Train_Y)\n",
    "    LGBM_Model = lgb.train(params = LGBM_para, train_set = LGBM_Train_Data)\n",
    "    Pred_Y = np.expm1(LGBM_Model.predict(Test_X))\n",
    "    return Make_Score_Reg(Test_Y,Pred_Y)"
   ]
  },
  {
   "cell_type": "code",
   "execution_count": null,
   "metadata": {},
   "outputs": [],
   "source": [
    "Perf_LGBM = LGBM_Train(X_train,Y_train,X_test,Y_test)"
   ]
  },
  {
   "cell_type": "code",
   "execution_count": 189,
   "metadata": {},
   "outputs": [
    {
     "data": {
      "text/plain": [
       "{'RMSLE': 2.058711840806955, 'R2': 0.15099904947174136}"
      ]
     },
     "execution_count": 189,
     "metadata": {},
     "output_type": "execute_result"
    }
   ],
   "source": [
    "Perf_LGBM"
   ]
  },
  {
   "cell_type": "markdown",
   "metadata": {},
   "source": [
    "# Performance Evaluation"
   ]
  },
  {
   "cell_type": "markdown",
   "metadata": {},
   "source": [
    "## Baseline systems"
   ]
  },
  {
   "cell_type": "code",
   "execution_count": 195,
   "metadata": {},
   "outputs": [],
   "source": [
    "Perf_Trival = Trival_System(Y_train,Y_test)\n",
    "Perf_KNN = KNN_Regression(X_train,Y_train,X_test,Y_test)"
   ]
  },
  {
   "cell_type": "markdown",
   "metadata": {},
   "source": [
    "Create a DataFrame to store Performance of each algorithms"
   ]
  },
  {
   "cell_type": "code",
   "execution_count": 220,
   "metadata": {},
   "outputs": [],
   "source": [
    "System_Performance = {'Algorithm':['Trival','KNN','Random Forest',\n",
    "                                   'AdaBoost','XGBoost', 'LightGBM'],\n",
    "                      'RMSLE':[Perf_Trival['RMSLE'], Perf_KNN['RMSLE'], Perf_RF['RMSLE'],\n",
    "                               Perf_Ada['RMSLE'], Perf_XGB['RMSLE'], Perf_LGBM['RMSLE']],\n",
    "                      'R2':[Perf_Trival['R2'], Perf_KNN['R2'], Perf_RF['R2'],\n",
    "                               Perf_Ada['R2'], Perf_XGB['R2'], Perf_LGBM['R2']]}\n",
    "System_Performance = pd.DataFrame(System_Performance)"
   ]
  },
  {
   "cell_type": "code",
   "execution_count": 221,
   "metadata": {},
   "outputs": [
    {
     "data": {
      "text/html": [
       "<div>\n",
       "<style scoped>\n",
       "    .dataframe tbody tr th:only-of-type {\n",
       "        vertical-align: middle;\n",
       "    }\n",
       "\n",
       "    .dataframe tbody tr th {\n",
       "        vertical-align: top;\n",
       "    }\n",
       "\n",
       "    .dataframe thead th {\n",
       "        text-align: right;\n",
       "    }\n",
       "</style>\n",
       "<table border=\"1\" class=\"dataframe\">\n",
       "  <thead>\n",
       "    <tr style=\"text-align: right;\">\n",
       "      <th></th>\n",
       "      <th>Algorithm</th>\n",
       "      <th>RMSLE</th>\n",
       "      <th>R2</th>\n",
       "    </tr>\n",
       "  </thead>\n",
       "  <tbody>\n",
       "    <tr>\n",
       "      <th>0</th>\n",
       "      <td>Trival</td>\n",
       "      <td>2.877364</td>\n",
       "      <td>-0.232779</td>\n",
       "    </tr>\n",
       "    <tr>\n",
       "      <th>1</th>\n",
       "      <td>KNN</td>\n",
       "      <td>3.269846</td>\n",
       "      <td>-0.149841</td>\n",
       "    </tr>\n",
       "    <tr>\n",
       "      <th>2</th>\n",
       "      <td>Random Forest</td>\n",
       "      <td>2.058949</td>\n",
       "      <td>0.121961</td>\n",
       "    </tr>\n",
       "    <tr>\n",
       "      <th>3</th>\n",
       "      <td>AdaBoost</td>\n",
       "      <td>2.829815</td>\n",
       "      <td>-0.285617</td>\n",
       "    </tr>\n",
       "    <tr>\n",
       "      <th>4</th>\n",
       "      <td>XGBoost</td>\n",
       "      <td>2.314669</td>\n",
       "      <td>0.035180</td>\n",
       "    </tr>\n",
       "    <tr>\n",
       "      <th>5</th>\n",
       "      <td>LightGBM</td>\n",
       "      <td>2.058712</td>\n",
       "      <td>0.150999</td>\n",
       "    </tr>\n",
       "  </tbody>\n",
       "</table>\n",
       "</div>"
      ],
      "text/plain": [
       "       Algorithm     RMSLE        R2\n",
       "0         Trival  2.877364 -0.232779\n",
       "1            KNN  3.269846 -0.149841\n",
       "2  Random Forest  2.058949  0.121961\n",
       "3       AdaBoost  2.829815 -0.285617\n",
       "4        XGBoost  2.314669  0.035180\n",
       "5       LightGBM  2.058712  0.150999"
      ]
     },
     "execution_count": 221,
     "metadata": {},
     "output_type": "execute_result"
    }
   ],
   "source": [
    "System_Performance"
   ]
  },
  {
   "cell_type": "code",
   "execution_count": 258,
   "metadata": {},
   "outputs": [
    {
     "data": {
      "image/png": "[encoded data removed]",
      "text/plain": [
       "<Figure size 800x600 with 1 Axes>"
      ]
     },
     "metadata": {},
     "output_type": "display_data"
    }
   ],
   "source": [
    "plt.figure(figsize=(8,6))\n",
    "ax_RMSLE = sns.barplot(x = 'RMSLE',y = 'Algorithm', data = System_Performance, hue = 'Algorithm')\n",
    "ax_RMSLE.grid(which = 'major', axis = 'x', alpha = 0.7)\n",
    "ax_RMSLE.grid(which = 'minor', axis = 'x', linestyle=':', linewidth=0.5)\n",
    "ax_RMSLE.minorticks_on()"
   ]
  },
  {
   "cell_type": "code",
   "execution_count": 259,
   "metadata": {},
   "outputs": [
    {
     "data": {
      "image/png": "[encoded data removed]",
      "text/plain": [
       "<Figure size 800x600 with 1 Axes>"
      ]
     },
     "metadata": {},
     "output_type": "display_data"
    }
   ],
   "source": [
    "plt.figure(figsize=(8,6))\n",
    "ax_R2 = sns.barplot(x = 'R2',y = 'Algorithm', data = System_Performance, hue = 'Algorithm')\n",
    "ax_R2.grid(which = 'major', axis = 'x', alpha = 0.7)\n",
    "ax_R2.grid(which = 'minor', axis = 'x', linestyle=':', linewidth=0.5)\n",
    "ax_R2.minorticks_on()"
   ]
  }
 ],
 "metadata": {
  "kernelspec": {
   "display_name": "Python 3 (ipykernel)",
   "language": "python",
   "name": "python3"
  },
  "language_info": {
   "codemirror_mode": {
    "name": "ipython",
    "version": 3
   },
   "file_extension": ".py",
   "mimetype": "text/x-python",
   "name": "python",
   "nbconvert_exporter": "python",
   "pygments_lexer": "ipython3",
   "version": "3.9.13"
  },
  "vscode": {
   "interpreter": {
    "hash": "726939e328705cc69f2ced25aee005e3f7f9af82a28eeea074b2946569eb1d59"
   }
  }
 },
 "nbformat": 4,
 "nbformat_minor": 2
}
